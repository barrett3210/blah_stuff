{
 "cells": [
  {
   "cell_type": "code",
   "execution_count": 1,
   "metadata": {
    "collapsed": true
   },
   "outputs": [],
   "source": [
    "import h5py\n",
    "import numpy as np\n",
    "import pandas as pd\n",
    "import matplotlib.pyplot as plt"
   ]
  },
  {
   "cell_type": "code",
   "execution_count": 6,
   "outputs": [],
   "source": [
    "file = \"data/blah_beta.h5\""
   ],
   "metadata": {
    "collapsed": false,
    "pycharm": {
     "name": "#%%\n"
    }
   }
  },
  {
   "cell_type": "code",
   "execution_count": 13,
   "outputs": [
    {
     "name": "stdout",
     "output_type": "stream",
     "text": [
      "<KeysViewHDF5 ['derived', 'spectra', 'spectrum_depths', 'spectrum_forces', 'timestamps']>\n"
     ]
    }
   ],
   "source": [
    "with h5py.File(file, 'r') as h5_file:\n",
    "    print(h5_file['session030/cal001/ins002/spectrometer1'].keys())"
   ],
   "metadata": {
    "collapsed": false,
    "pycharm": {
     "name": "#%%\n"
    }
   }
  },
  {
   "cell_type": "code",
   "execution_count": 11,
   "outputs": [
    {
     "name": "stdout",
     "output_type": "stream",
     "text": [
      "<KeysViewHDF5 ['end_time', 'spec1_temperature', 'start_time']>\n"
     ]
    }
   ],
   "source": [
    "with h5py.File(file, 'r') as h5_file:\n",
    "    print(h5_file['session030/cal001/ins002'].attrs.keys())"
   ],
   "metadata": {
    "collapsed": false,
    "pycharm": {
     "name": "#%%\n"
    }
   }
  },
  {
   "cell_type": "code",
   "execution_count": 27,
   "outputs": [
    {
     "name": "stdout",
     "output_type": "stream",
     "text": [
      "[4402. 6162. 5060. 4883. 4603.]\n"
     ]
    }
   ],
   "source": [
    "with h5py.File(file, 'r') as h5_file:\n",
    "    print(h5_file['session030/cal001/ins002/spectrometer1/spectrum_forces'][:])"
   ],
   "metadata": {
    "collapsed": false,
    "pycharm": {
     "name": "#%%\n"
    }
   }
  },
  {
   "cell_type": "code",
   "execution_count": 33,
   "outputs": [
    {
     "name": "stdout",
     "output_type": "stream",
     "text": [
      "[1621094060301109 1621094063933028 1621094066943287 1621094069761154\n",
      " 1621094072542350 1621094075248055 1621094078004285]\n"
     ]
    }
   ],
   "source": [
    "with h5py.File(file, 'r') as h5_file:\n",
    "    print(h5_file['session030/cal001/ins001/spectrometer1/timestamps'][:])"
   ],
   "metadata": {
    "collapsed": false,
    "pycharm": {
     "name": "#%%\n"
    }
   }
  },
  {
   "cell_type": "code",
   "execution_count": 28,
   "outputs": [
    {
     "name": "stdout",
     "output_type": "stream",
     "text": [
      "(48,)\n"
     ]
    }
   ],
   "source": [
    "with h5py.File(file, 'r') as h5_file:\n",
    "    print(h5_file['session030/cal001/ins001/load_cell/forces'][:].shape)"
   ],
   "metadata": {
    "collapsed": false,
    "pycharm": {
     "name": "#%%\n"
    }
   }
  },
  {
   "cell_type": "code",
   "execution_count": 29,
   "outputs": [
    {
     "name": "stdout",
     "output_type": "stream",
     "text": [
      "[10936. 11477. 11477. 11121. 11121. 11063. 10387. 10387. 11357. 11357.\n",
      " 11327. 11327. 10986. 10846. 10846.  9560.  9560. 10467. 10467. 10560.\n",
      " 10560. 10274. 10274. 10337. 10337. 11024. 10817. 10817. 10922. 10922.\n",
      " 10984. 10984. 10221. 10760. 10760. 10661. 10661. 10647. 10647. 10611.\n",
      " 11153. 10865. 10865. 11181. 11181. 11274. 11274. 10996.]\n"
     ]
    }
   ],
   "source": [
    "with h5py.File(file, 'r') as h5_file:\n",
    "    print(h5_file['session030/cal001/ins001/load_cell/forces'][:])"
   ],
   "metadata": {
    "collapsed": false,
    "pycharm": {
     "name": "#%%\n"
    }
   }
  },
  {
   "cell_type": "code",
   "execution_count": 38,
   "outputs": [
    {
     "name": "stdout",
     "output_type": "stream",
     "text": [
      "[6.84916077 7.26673584 7.4068428  7.52698441 7.57778397 7.5840332 ]\n"
     ]
    }
   ],
   "source": [
    "with h5py.File(file, 'r') as h5_file:\n",
    "    print(h5_file['session031/cal001/ins002/encoder/depths'][:])"
   ],
   "metadata": {
    "collapsed": false,
    "pycharm": {
     "name": "#%%\n"
    }
   }
  },
  {
   "cell_type": "code",
   "execution_count": 39,
   "outputs": [
    {
     "name": "stdout",
     "output_type": "stream",
     "text": [
      "[ 1.36484222  4.2539402   7.58179703  9.37879639 10.08166504 12.58204117\n",
      " 15.08231659]\n"
     ]
    }
   ],
   "source": [
    "with h5py.File(file, 'r') as h5_file:\n",
    "    print(h5_file['session031/cal001/ins002/spectrometer1/spectrum_depths'][:])"
   ],
   "metadata": {
    "collapsed": false,
    "pycharm": {
     "name": "#%%\n"
    }
   }
  },
  {
   "cell_type": "code",
   "execution_count": null,
   "outputs": [],
   "source": [],
   "metadata": {
    "collapsed": false,
    "pycharm": {
     "name": "#%%\n"
    }
   }
  }
 ],
 "metadata": {
  "kernelspec": {
   "display_name": "Python 3",
   "language": "python",
   "name": "python3"
  },
  "language_info": {
   "codemirror_mode": {
    "name": "ipython",
    "version": 2
   },
   "file_extension": ".py",
   "mimetype": "text/x-python",
   "name": "python",
   "nbconvert_exporter": "python",
   "pygments_lexer": "ipython2",
   "version": "2.7.6"
  }
 },
 "nbformat": 4,
 "nbformat_minor": 0
}