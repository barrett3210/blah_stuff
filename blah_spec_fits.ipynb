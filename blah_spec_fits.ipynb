{
 "cells": [
  {
   "cell_type": "code",
   "execution_count": 2,
   "metadata": {
    "collapsed": true
   },
   "outputs": [],
   "source": [
    "import h5py\n",
    "import numpy as np\n",
    "import pandas as pd\n",
    "from scipy.optimize import curve_fit\n",
    "\n",
    "def run_peak_fit_model_on_insertion(self):\n",
    "    # get relevant data\n",
    "    waves = np.array(config.current_wavelength_vector)\n",
    "    absorbance_df = self.create_absorbance_df(1)\n",
    "    # run the model\n",
    "    modelparams, modelcovar, modeled_spectra, residual_spectra = model_fit(absorbance_df, waves)\n",
    "    # create a dataframe for the modeled spectra\n",
    "    modeled_df = pd.DataFrame(data=modeled_spectra)\n",
    "    # determine standard error for the f parameter and add it to the dataframe\n",
    "    sd_err = extract_f_sd_err(modelcovar)\n",
    "    modeled_df['sd_err'] = sd_err\n",
    "    # determine root mean square error for the model fit and add it to the dataframe\n",
    "    squared_errors = np.square(residual_spectra)\n",
    "    mse = np.mean(squared_errors, axis=1)\n",
    "    rmse = np.sqrt(mse)\n",
    "    modeled_df['rmse'] = rmse\n",
    "    # add the model parameters to the dataframe\n",
    "    modeled_df[['c0', 'c1', 'c2', 'c3', 'w1', 'w2', 'f1']] = modelparams\n",
    "    return modeled_df\n",
    "\n",
    "def create_absorbance_df(self, spectrometer):\n",
    "    if spectrometer == 1:\n",
    "        absorbances = np.asarray(self.insertion.absorbances)\n",
    "        timestamps = timestamp_list_to_pandas_timestamps(self.insertion.spectrum_timestamps)\n",
    "\n",
    "def timestamp_list_to_pandas_timestamps(timestamp_list):\n",
    "    series = pd.Series(timestamp_list).astype('<M8[us]')\n",
    "    return series\n",
    "\n",
    "def spec_fit(x, c0, c1, c2, c3, w1, w2, f1):\n",
    "    '''\n",
    "    A function for fitting peaks to spectra.\n",
    "    This fit function was copy-pasted in as text from David's fit function on 5/11/21.\n",
    "    There are two water peaks (free water and bound water) modeled as gaussian peaks w1 and w2.\n",
    "    There is the f1 fatty acid peak.\n",
    "    There is a three-term polynomial function.\n",
    "\n",
    "    :param x: input data\n",
    "    :param c0: polynomial term 1\n",
    "    :param c1: polynomial term 2\n",
    "    :param c2: polynomial term 3\n",
    "    :param c3: polynomial term 4\n",
    "    :param w1: water peak term 1\n",
    "    :param w2: water peak term 2\n",
    "    :param f1: fatty acid peak\n",
    "    :return:\n",
    "    '''\n",
    "\n",
    "    f_of_x = c0+c1*(x-1700)+c2*(x-1700)**2+c3*(x-1700)**3 + \\\n",
    "             w1*(0.0751747*np.exp(-(x-1903.82)**2/26.4725**2)+0.225213*np.exp(-(x-1942.21)**2/48.8781**2) +\n",
    "                 0.005*np.exp(-(x-1779.71)**2/32.1869**2))/7.715 + \\\n",
    "             w2*(0.0280945*np.exp(-(x-1913.6)**2/25.0449**2)+0.103527*np.exp(-(x-1949.5)**2/52.2024**2))/3.07 + \\\n",
    "             f1*(0.31*np.exp(-(x-(1730-24))**2/17**2)+np.exp(-(x-1730)**2/17**2)+0.39 *\n",
    "                 np.exp(-(x-(1730+31))**2/17**2))/25.484\n",
    "    return f_of_x\n",
    "\n",
    "def model_fit(df, wave_array):\n",
    "    '''\n",
    "    Performs spec_fit function on the input spectra.\n",
    "\n",
    "    Input parameters:\n",
    "    df is dataframe containing only the spectra, without extraneous columns\n",
    "    wave_array is np.array containing the wavelengths of spectra\n",
    "\n",
    "    Return values:\n",
    "    modelparams is np.array of parameters output from curve_fit\n",
    "    modelcovar is np.array of covariance array output from curve_fit\n",
    "    modeled_spectra is np.array of the modeled spectra using the curve_fit parameters\n",
    "    residual_spectra is np.array of the original spectrum - the modeled spectrum\n",
    "\n",
    "    '''\n",
    "    number = df.shape[0]\n",
    "    modelparams = np.empty((number, 7), dtype=float)\n",
    "    modelcovar = np.empty((number, 7, 7), dtype=float)\n",
    "    modeled_spectra = np.empty((number, wave_array.shape[0]), dtype=float)\n",
    "    residual_spectra = np.empty((number, wave_array.shape[0]), dtype=float)\n",
    "    for i in range(number):\n",
    "        row = df.iloc[i, :]\n",
    "        modeled, pcov = curve_fit(spec_fit, wave_array, row)\n",
    "        modelparams[i, :] = modeled\n",
    "        modelcovar[i, ::] = pcov\n",
    "        modeled_spectra[i, :] = spec_fit(wave_array, *modeled)\n",
    "        residual_spectra[i, :] = row - modeled_spectra[i, :]\n",
    "    return modelparams, modelcovar, modeled_spectra, residual_spectra\n",
    "\n",
    "\n",
    "def extract_farray(modelparams):\n",
    "    '''\n",
    "    Convenience function to create an np.array containing only the f1 values\n",
    "\n",
    "    Input:  the modelparams np.array created by model_fit().\n",
    "    '''\n",
    "    return modelparams[:, 6]\n",
    "\n",
    "\n",
    "def create_modelparams_df(modelparams):\n",
    "    columns = ['c0', 'c1', 'c2', 'c3', 'w1', 'w2', 'f1']\n",
    "    modelparams_df = pd.DataFrame(data=modelparams, columns=columns)\n",
    "    return modelparams_df\n",
    "\n",
    "\n",
    "def extract_f_sd_err(modelcovar):\n",
    "    '''\n",
    "    Convenience function to create an np.array containing the standard deviation\n",
    "       of the covariance matrix for the f1 term.\n",
    "\n",
    "    Input:  the modelcovar np.array created by model_fit().\n",
    "\n",
    "    '''\n",
    "    f_sd_err = np.empty(modelcovar.shape[0])\n",
    "    for i in range(modelcovar.shape[0]):\n",
    "        f_sd_err[i] = np.diag(modelcovar[i, :, :])[6]\n",
    "    return f_sd_err\n",
    "\n",
    "\n",
    "def high_f1_numbers(farray, threshold):\n",
    "    '''\n",
    "    Returns np.array of the index positions of spectra with f1 values greater than the\n",
    "       threshold.  Use this with iloc to find the appropriate rows in the dataframe.\n",
    "\n",
    "    Input:  np.array output from extract_farray() and desired threshold value.\n",
    "    '''\n",
    "    return np.where(farray > threshold)[0]"
   ]
  },
  {
   "cell_type": "code",
   "execution_count": 3,
   "outputs": [],
   "source": [
    "file = \"data/blah_beta.h5\""
   ],
   "metadata": {
    "collapsed": false,
    "pycharm": {
     "name": "#%%\n"
    }
   }
  },
  {
   "cell_type": "code",
   "execution_count": 9,
   "outputs": [
    {
     "name": "stdout",
     "output_type": "stream",
     "text": [
      "(19, 410)\n"
     ]
    }
   ],
   "source": [
    "with h5py.File(file, 'r') as h5_file:\n",
    "    print(h5_file['session048/cal001/ins001/derived/modeled']\n",
    "    [:].shape)"
   ],
   "metadata": {
    "collapsed": false,
    "pycharm": {
     "name": "#%%\n"
    }
   }
  },
  {
   "cell_type": "code",
   "execution_count": 5,
   "outputs": [
    {
     "name": "stdout",
     "output_type": "stream",
     "text": [
      "<KeysViewHDF5 ['session001', 'session002', 'session003', 'session004', 'session005', 'session006', 'session007', 'session008', 'session009', 'session010', 'session011', 'session012', 'session013', 'session014', 'session015', 'session016', 'session017', 'session018', 'session019', 'session020', 'session021', 'session022', 'session023', 'session024', 'session025', 'session026', 'session027', 'session028', 'session029', 'session030', 'session031', 'session032', 'session033', 'session034', 'session035', 'session036', 'session037', 'session038', 'session039', 'session040', 'session041', 'session042', 'session043', 'session044', 'session045', 'session046', 'session047', 'session048']>\n"
     ]
    }
   ],
   "source": [
    "with h5py.File(file, 'r') as h5_file:\n",
    "    print(h5_file['/'].keys())"
   ],
   "metadata": {
    "collapsed": false,
    "pycharm": {
     "name": "#%%\n"
    }
   }
  },
  {
   "cell_type": "code",
   "execution_count": 10,
   "outputs": [
    {
     "name": "stdout",
     "output_type": "stream",
     "text": [
      "[ 0.86693888 -0.00611296 -0.00562552 -0.00874377 -0.01528805 -0.0156569\n",
      " -0.01972628 -0.0303306  -0.04017102 -0.03718631 -0.0308056  -0.04583852\n",
      " -0.04126997 -0.03821567 -0.05596053 -0.04945316 -0.04045875 -0.04692674\n",
      " -0.05424555]\n"
     ]
    }
   ],
   "source": [
    "with h5py.File(file, 'r') as h5_file:\n",
    "    print(h5_file['session048/cal001/ins001/derived/modeled']\n",
    "    [:, -1])"
   ],
   "metadata": {
    "collapsed": false,
    "pycharm": {
     "name": "#%%\n"
    }
   }
  },
  {
   "cell_type": "code",
   "execution_count": 15,
   "outputs": [],
   "source": [
    "columns = list(range(0, 401, 1))\n",
    "modeled_columns = ['sd_err', 'rmse', 'c0', 'c1', 'c2', 'c3', 'w1', 'w2', 'f1']\n",
    "columns = columns + modeled_columns"
   ],
   "metadata": {
    "collapsed": false,
    "pycharm": {
     "name": "#%%\n"
    }
   }
  },
  {
   "cell_type": "code",
   "execution_count": 18,
   "outputs": [],
   "source": [
    "with h5py.File(file, 'r') as h5_file:\n",
    "    data = h5_file['session048/cal001/ins001/derived/modeled'][:]"
   ],
   "metadata": {
    "collapsed": false,
    "pycharm": {
     "name": "#%%\n"
    }
   }
  },
  {
   "cell_type": "code",
   "execution_count": 19,
   "outputs": [],
   "source": [
    "df = pd.DataFrame(data=data, columns=columns)"
   ],
   "metadata": {
    "collapsed": false,
    "pycharm": {
     "name": "#%%\n"
    }
   }
  },
  {
   "cell_type": "code",
   "execution_count": 20,
   "outputs": [
    {
     "data": {
      "text/plain": "           0         1         2         3         4         5         6  \\\n0   0.412516  0.412053  0.411603  0.411166  0.410742  0.410331  0.409933   \n1   0.369179  0.371311  0.373425  0.375522  0.377601  0.379662  0.381706   \n2   0.514812  0.514518  0.514226  0.513936  0.513648  0.513363  0.513079   \n3   0.507566  0.507225  0.506887  0.506551  0.506217  0.505885  0.505556   \n4   0.453858  0.453575  0.453295  0.453016  0.452739  0.452463  0.452190   \n5   0.494295  0.494016  0.493738  0.493462  0.493188  0.492916  0.492646   \n6   0.507391  0.507111  0.506834  0.506558  0.506284  0.506013  0.505743   \n7   0.460152  0.459912  0.459674  0.459437  0.459202  0.458968  0.458736   \n8   0.484669  0.484419  0.484172  0.483925  0.483681  0.483438  0.483196   \n9   0.470571  0.470340  0.470111  0.469883  0.469657  0.469432  0.469209   \n10  0.494980  0.494726  0.494473  0.494223  0.493974  0.493727  0.493481   \n11  0.504886  0.504646  0.504408  0.504172  0.503938  0.503706  0.503475   \n12  0.500800  0.500560  0.500322  0.500086  0.499853  0.499621  0.499391   \n13  0.484953  0.484701  0.484452  0.484207  0.483964  0.483723  0.483486   \n14  0.491445  0.491215  0.490987  0.490761  0.490538  0.490316  0.490096   \n15  0.506296  0.506071  0.505848  0.505627  0.505407  0.505189  0.504973   \n16  0.497385  0.497180  0.496977  0.496775  0.496575  0.496377  0.496181   \n17  0.511871  0.511655  0.511440  0.511227  0.511016  0.510807  0.510600   \n18  0.516284  0.516010  0.515739  0.515469  0.515202  0.514937  0.514674   \n\n           7         8         9  ...       400    sd_err      rmse        c0  \\\n0   0.409547  0.409174  0.408813  ...  0.421754  0.010423  0.016542  0.440431   \n1   0.383733  0.385742  0.387733  ...  0.651657  0.017290  0.021305  0.527290   \n2   0.512798  0.512519  0.512242  ...  0.660836  0.000032  0.000921  0.494537   \n3   0.505229  0.504904  0.504582  ...  0.656709  0.000036  0.000972  0.482343   \n4   0.451918  0.451648  0.451379  ...  0.582922  0.000019  0.000710  0.431641   \n5   0.492378  0.492112  0.491848  ...  0.627160  0.000030  0.000890  0.473775   \n6   0.505475  0.505209  0.504946  ...  0.642110  0.000023  0.000770  0.487396   \n7   0.458506  0.458277  0.458050  ...  0.572131  0.000014  0.000608  0.442237   \n8   0.482957  0.482719  0.482483  ...  0.608622  0.000015  0.000631  0.466210   \n9   0.468987  0.468767  0.468548  ...  0.591647  0.000014  0.000602  0.453134   \n10  0.493238  0.492996  0.492755  ...  0.621182  0.000017  0.000668  0.476382   \n11  0.503247  0.503020  0.502795  ...  0.643544  0.000016  0.000642  0.490173   \n12  0.499164  0.498938  0.498715  ...  0.638239  0.000015  0.000629  0.487270   \n13  0.483251  0.483019  0.482790  ...  0.631069  0.000048  0.001121  0.475295   \n14  0.489878  0.489662  0.489449  ...  0.628800  0.000014  0.000599  0.478725   \n15  0.504758  0.504546  0.504334  ...  0.638479  0.000015  0.000629  0.491925   \n16  0.495987  0.495794  0.495603  ...  0.637306  0.000015  0.000638  0.486520   \n17  0.510394  0.510190  0.509987  ...  0.644637  0.000014  0.000600  0.498927   \n18  0.514413  0.514154  0.513898  ...  0.655936  0.000021  0.000740  0.498827   \n\n          c1            c2            c3        w1        w2        f1  \n0   0.000507 -8.743775e-08 -1.486287e-08 -1.743454  4.094606  0.866939  \n1   0.000219 -3.884420e-06  1.120707e-08  6.037985 -1.074594 -0.006113  \n2   0.000024  1.061314e-06 -1.844708e-11  4.250832 -0.827179 -0.005626  \n3   0.000007  1.179224e-06  7.046450e-11  4.621883 -1.031031 -0.008744  \n4  -0.000010  9.376713e-07  1.203388e-10  3.729818 -0.417619 -0.015288  \n5   0.000007  9.572353e-07 -3.810306e-12  3.702646 -0.436319 -0.015657  \n6   0.000012  9.498482e-07 -1.094611e-10  3.694965 -0.365349 -0.019726  \n7   0.000003  8.243434e-07  4.931124e-11  3.126869 -0.390981 -0.030331  \n8   0.000007  8.810708e-07  1.065544e-10  3.431258 -0.437679 -0.040171  \n9   0.000001  8.014427e-07  1.109629e-10  3.133936 -0.124245 -0.037186  \n10  0.000008  8.869139e-07  4.626719e-11  3.506516 -0.424386 -0.030806  \n11  0.000047  9.868390e-07  1.181431e-10  4.059880 -1.131356 -0.045839  \n12  0.000057  9.616451e-07 -1.425385e-10  3.798793 -0.892958 -0.041270  \n13  0.000101  9.533564e-07 -1.010579e-09  3.704584 -0.588964 -0.038216  \n14  0.000058  9.311945e-07 -1.380322e-10  3.782319 -0.857535 -0.055961  \n15  0.000035  8.801586e-07  4.863892e-11  3.550645 -0.594241 -0.049453  \n16  0.000059  8.663710e-07 -8.249883e-11  3.784466 -0.757453 -0.040459  \n17  0.000044  8.691839e-07 -1.052150e-11  3.533107 -0.623708 -0.046927  \n18  0.000037  9.915934e-07 -2.178966e-10  3.874694 -0.656096 -0.054246  \n\n[19 rows x 410 columns]",
      "text/html": "<div>\n<style scoped>\n    .dataframe tbody tr th:only-of-type {\n        vertical-align: middle;\n    }\n\n    .dataframe tbody tr th {\n        vertical-align: top;\n    }\n\n    .dataframe thead th {\n        text-align: right;\n    }\n</style>\n<table border=\"1\" class=\"dataframe\">\n  <thead>\n    <tr style=\"text-align: right;\">\n      <th></th>\n      <th>0</th>\n      <th>1</th>\n      <th>2</th>\n      <th>3</th>\n      <th>4</th>\n      <th>5</th>\n      <th>6</th>\n      <th>7</th>\n      <th>8</th>\n      <th>9</th>\n      <th>...</th>\n      <th>400</th>\n      <th>sd_err</th>\n      <th>rmse</th>\n      <th>c0</th>\n      <th>c1</th>\n      <th>c2</th>\n      <th>c3</th>\n      <th>w1</th>\n      <th>w2</th>\n      <th>f1</th>\n    </tr>\n  </thead>\n  <tbody>\n    <tr>\n      <th>0</th>\n      <td>0.412516</td>\n      <td>0.412053</td>\n      <td>0.411603</td>\n      <td>0.411166</td>\n      <td>0.410742</td>\n      <td>0.410331</td>\n      <td>0.409933</td>\n      <td>0.409547</td>\n      <td>0.409174</td>\n      <td>0.408813</td>\n      <td>...</td>\n      <td>0.421754</td>\n      <td>0.010423</td>\n      <td>0.016542</td>\n      <td>0.440431</td>\n      <td>0.000507</td>\n      <td>-8.743775e-08</td>\n      <td>-1.486287e-08</td>\n      <td>-1.743454</td>\n      <td>4.094606</td>\n      <td>0.866939</td>\n    </tr>\n    <tr>\n      <th>1</th>\n      <td>0.369179</td>\n      <td>0.371311</td>\n      <td>0.373425</td>\n      <td>0.375522</td>\n      <td>0.377601</td>\n      <td>0.379662</td>\n      <td>0.381706</td>\n      <td>0.383733</td>\n      <td>0.385742</td>\n      <td>0.387733</td>\n      <td>...</td>\n      <td>0.651657</td>\n      <td>0.017290</td>\n      <td>0.021305</td>\n      <td>0.527290</td>\n      <td>0.000219</td>\n      <td>-3.884420e-06</td>\n      <td>1.120707e-08</td>\n      <td>6.037985</td>\n      <td>-1.074594</td>\n      <td>-0.006113</td>\n    </tr>\n    <tr>\n      <th>2</th>\n      <td>0.514812</td>\n      <td>0.514518</td>\n      <td>0.514226</td>\n      <td>0.513936</td>\n      <td>0.513648</td>\n      <td>0.513363</td>\n      <td>0.513079</td>\n      <td>0.512798</td>\n      <td>0.512519</td>\n      <td>0.512242</td>\n      <td>...</td>\n      <td>0.660836</td>\n      <td>0.000032</td>\n      <td>0.000921</td>\n      <td>0.494537</td>\n      <td>0.000024</td>\n      <td>1.061314e-06</td>\n      <td>-1.844708e-11</td>\n      <td>4.250832</td>\n      <td>-0.827179</td>\n      <td>-0.005626</td>\n    </tr>\n    <tr>\n      <th>3</th>\n      <td>0.507566</td>\n      <td>0.507225</td>\n      <td>0.506887</td>\n      <td>0.506551</td>\n      <td>0.506217</td>\n      <td>0.505885</td>\n      <td>0.505556</td>\n      <td>0.505229</td>\n      <td>0.504904</td>\n      <td>0.504582</td>\n      <td>...</td>\n      <td>0.656709</td>\n      <td>0.000036</td>\n      <td>0.000972</td>\n      <td>0.482343</td>\n      <td>0.000007</td>\n      <td>1.179224e-06</td>\n      <td>7.046450e-11</td>\n      <td>4.621883</td>\n      <td>-1.031031</td>\n      <td>-0.008744</td>\n    </tr>\n    <tr>\n      <th>4</th>\n      <td>0.453858</td>\n      <td>0.453575</td>\n      <td>0.453295</td>\n      <td>0.453016</td>\n      <td>0.452739</td>\n      <td>0.452463</td>\n      <td>0.452190</td>\n      <td>0.451918</td>\n      <td>0.451648</td>\n      <td>0.451379</td>\n      <td>...</td>\n      <td>0.582922</td>\n      <td>0.000019</td>\n      <td>0.000710</td>\n      <td>0.431641</td>\n      <td>-0.000010</td>\n      <td>9.376713e-07</td>\n      <td>1.203388e-10</td>\n      <td>3.729818</td>\n      <td>-0.417619</td>\n      <td>-0.015288</td>\n    </tr>\n    <tr>\n      <th>5</th>\n      <td>0.494295</td>\n      <td>0.494016</td>\n      <td>0.493738</td>\n      <td>0.493462</td>\n      <td>0.493188</td>\n      <td>0.492916</td>\n      <td>0.492646</td>\n      <td>0.492378</td>\n      <td>0.492112</td>\n      <td>0.491848</td>\n      <td>...</td>\n      <td>0.627160</td>\n      <td>0.000030</td>\n      <td>0.000890</td>\n      <td>0.473775</td>\n      <td>0.000007</td>\n      <td>9.572353e-07</td>\n      <td>-3.810306e-12</td>\n      <td>3.702646</td>\n      <td>-0.436319</td>\n      <td>-0.015657</td>\n    </tr>\n    <tr>\n      <th>6</th>\n      <td>0.507391</td>\n      <td>0.507111</td>\n      <td>0.506834</td>\n      <td>0.506558</td>\n      <td>0.506284</td>\n      <td>0.506013</td>\n      <td>0.505743</td>\n      <td>0.505475</td>\n      <td>0.505209</td>\n      <td>0.504946</td>\n      <td>...</td>\n      <td>0.642110</td>\n      <td>0.000023</td>\n      <td>0.000770</td>\n      <td>0.487396</td>\n      <td>0.000012</td>\n      <td>9.498482e-07</td>\n      <td>-1.094611e-10</td>\n      <td>3.694965</td>\n      <td>-0.365349</td>\n      <td>-0.019726</td>\n    </tr>\n    <tr>\n      <th>7</th>\n      <td>0.460152</td>\n      <td>0.459912</td>\n      <td>0.459674</td>\n      <td>0.459437</td>\n      <td>0.459202</td>\n      <td>0.458968</td>\n      <td>0.458736</td>\n      <td>0.458506</td>\n      <td>0.458277</td>\n      <td>0.458050</td>\n      <td>...</td>\n      <td>0.572131</td>\n      <td>0.000014</td>\n      <td>0.000608</td>\n      <td>0.442237</td>\n      <td>0.000003</td>\n      <td>8.243434e-07</td>\n      <td>4.931124e-11</td>\n      <td>3.126869</td>\n      <td>-0.390981</td>\n      <td>-0.030331</td>\n    </tr>\n    <tr>\n      <th>8</th>\n      <td>0.484669</td>\n      <td>0.484419</td>\n      <td>0.484172</td>\n      <td>0.483925</td>\n      <td>0.483681</td>\n      <td>0.483438</td>\n      <td>0.483196</td>\n      <td>0.482957</td>\n      <td>0.482719</td>\n      <td>0.482483</td>\n      <td>...</td>\n      <td>0.608622</td>\n      <td>0.000015</td>\n      <td>0.000631</td>\n      <td>0.466210</td>\n      <td>0.000007</td>\n      <td>8.810708e-07</td>\n      <td>1.065544e-10</td>\n      <td>3.431258</td>\n      <td>-0.437679</td>\n      <td>-0.040171</td>\n    </tr>\n    <tr>\n      <th>9</th>\n      <td>0.470571</td>\n      <td>0.470340</td>\n      <td>0.470111</td>\n      <td>0.469883</td>\n      <td>0.469657</td>\n      <td>0.469432</td>\n      <td>0.469209</td>\n      <td>0.468987</td>\n      <td>0.468767</td>\n      <td>0.468548</td>\n      <td>...</td>\n      <td>0.591647</td>\n      <td>0.000014</td>\n      <td>0.000602</td>\n      <td>0.453134</td>\n      <td>0.000001</td>\n      <td>8.014427e-07</td>\n      <td>1.109629e-10</td>\n      <td>3.133936</td>\n      <td>-0.124245</td>\n      <td>-0.037186</td>\n    </tr>\n    <tr>\n      <th>10</th>\n      <td>0.494980</td>\n      <td>0.494726</td>\n      <td>0.494473</td>\n      <td>0.494223</td>\n      <td>0.493974</td>\n      <td>0.493727</td>\n      <td>0.493481</td>\n      <td>0.493238</td>\n      <td>0.492996</td>\n      <td>0.492755</td>\n      <td>...</td>\n      <td>0.621182</td>\n      <td>0.000017</td>\n      <td>0.000668</td>\n      <td>0.476382</td>\n      <td>0.000008</td>\n      <td>8.869139e-07</td>\n      <td>4.626719e-11</td>\n      <td>3.506516</td>\n      <td>-0.424386</td>\n      <td>-0.030806</td>\n    </tr>\n    <tr>\n      <th>11</th>\n      <td>0.504886</td>\n      <td>0.504646</td>\n      <td>0.504408</td>\n      <td>0.504172</td>\n      <td>0.503938</td>\n      <td>0.503706</td>\n      <td>0.503475</td>\n      <td>0.503247</td>\n      <td>0.503020</td>\n      <td>0.502795</td>\n      <td>...</td>\n      <td>0.643544</td>\n      <td>0.000016</td>\n      <td>0.000642</td>\n      <td>0.490173</td>\n      <td>0.000047</td>\n      <td>9.868390e-07</td>\n      <td>1.181431e-10</td>\n      <td>4.059880</td>\n      <td>-1.131356</td>\n      <td>-0.045839</td>\n    </tr>\n    <tr>\n      <th>12</th>\n      <td>0.500800</td>\n      <td>0.500560</td>\n      <td>0.500322</td>\n      <td>0.500086</td>\n      <td>0.499853</td>\n      <td>0.499621</td>\n      <td>0.499391</td>\n      <td>0.499164</td>\n      <td>0.498938</td>\n      <td>0.498715</td>\n      <td>...</td>\n      <td>0.638239</td>\n      <td>0.000015</td>\n      <td>0.000629</td>\n      <td>0.487270</td>\n      <td>0.000057</td>\n      <td>9.616451e-07</td>\n      <td>-1.425385e-10</td>\n      <td>3.798793</td>\n      <td>-0.892958</td>\n      <td>-0.041270</td>\n    </tr>\n    <tr>\n      <th>13</th>\n      <td>0.484953</td>\n      <td>0.484701</td>\n      <td>0.484452</td>\n      <td>0.484207</td>\n      <td>0.483964</td>\n      <td>0.483723</td>\n      <td>0.483486</td>\n      <td>0.483251</td>\n      <td>0.483019</td>\n      <td>0.482790</td>\n      <td>...</td>\n      <td>0.631069</td>\n      <td>0.000048</td>\n      <td>0.001121</td>\n      <td>0.475295</td>\n      <td>0.000101</td>\n      <td>9.533564e-07</td>\n      <td>-1.010579e-09</td>\n      <td>3.704584</td>\n      <td>-0.588964</td>\n      <td>-0.038216</td>\n    </tr>\n    <tr>\n      <th>14</th>\n      <td>0.491445</td>\n      <td>0.491215</td>\n      <td>0.490987</td>\n      <td>0.490761</td>\n      <td>0.490538</td>\n      <td>0.490316</td>\n      <td>0.490096</td>\n      <td>0.489878</td>\n      <td>0.489662</td>\n      <td>0.489449</td>\n      <td>...</td>\n      <td>0.628800</td>\n      <td>0.000014</td>\n      <td>0.000599</td>\n      <td>0.478725</td>\n      <td>0.000058</td>\n      <td>9.311945e-07</td>\n      <td>-1.380322e-10</td>\n      <td>3.782319</td>\n      <td>-0.857535</td>\n      <td>-0.055961</td>\n    </tr>\n    <tr>\n      <th>15</th>\n      <td>0.506296</td>\n      <td>0.506071</td>\n      <td>0.505848</td>\n      <td>0.505627</td>\n      <td>0.505407</td>\n      <td>0.505189</td>\n      <td>0.504973</td>\n      <td>0.504758</td>\n      <td>0.504546</td>\n      <td>0.504334</td>\n      <td>...</td>\n      <td>0.638479</td>\n      <td>0.000015</td>\n      <td>0.000629</td>\n      <td>0.491925</td>\n      <td>0.000035</td>\n      <td>8.801586e-07</td>\n      <td>4.863892e-11</td>\n      <td>3.550645</td>\n      <td>-0.594241</td>\n      <td>-0.049453</td>\n    </tr>\n    <tr>\n      <th>16</th>\n      <td>0.497385</td>\n      <td>0.497180</td>\n      <td>0.496977</td>\n      <td>0.496775</td>\n      <td>0.496575</td>\n      <td>0.496377</td>\n      <td>0.496181</td>\n      <td>0.495987</td>\n      <td>0.495794</td>\n      <td>0.495603</td>\n      <td>...</td>\n      <td>0.637306</td>\n      <td>0.000015</td>\n      <td>0.000638</td>\n      <td>0.486520</td>\n      <td>0.000059</td>\n      <td>8.663710e-07</td>\n      <td>-8.249883e-11</td>\n      <td>3.784466</td>\n      <td>-0.757453</td>\n      <td>-0.040459</td>\n    </tr>\n    <tr>\n      <th>17</th>\n      <td>0.511871</td>\n      <td>0.511655</td>\n      <td>0.511440</td>\n      <td>0.511227</td>\n      <td>0.511016</td>\n      <td>0.510807</td>\n      <td>0.510600</td>\n      <td>0.510394</td>\n      <td>0.510190</td>\n      <td>0.509987</td>\n      <td>...</td>\n      <td>0.644637</td>\n      <td>0.000014</td>\n      <td>0.000600</td>\n      <td>0.498927</td>\n      <td>0.000044</td>\n      <td>8.691839e-07</td>\n      <td>-1.052150e-11</td>\n      <td>3.533107</td>\n      <td>-0.623708</td>\n      <td>-0.046927</td>\n    </tr>\n    <tr>\n      <th>18</th>\n      <td>0.516284</td>\n      <td>0.516010</td>\n      <td>0.515739</td>\n      <td>0.515469</td>\n      <td>0.515202</td>\n      <td>0.514937</td>\n      <td>0.514674</td>\n      <td>0.514413</td>\n      <td>0.514154</td>\n      <td>0.513898</td>\n      <td>...</td>\n      <td>0.655936</td>\n      <td>0.000021</td>\n      <td>0.000740</td>\n      <td>0.498827</td>\n      <td>0.000037</td>\n      <td>9.915934e-07</td>\n      <td>-2.178966e-10</td>\n      <td>3.874694</td>\n      <td>-0.656096</td>\n      <td>-0.054246</td>\n    </tr>\n  </tbody>\n</table>\n<p>19 rows × 410 columns</p>\n</div>"
     },
     "execution_count": 20,
     "metadata": {},
     "output_type": "execute_result"
    }
   ],
   "source": [
    "df"
   ],
   "metadata": {
    "collapsed": false,
    "pycharm": {
     "name": "#%%\n"
    }
   }
  },
  {
   "cell_type": "code",
   "execution_count": 23,
   "outputs": [
    {
     "name": "stdout",
     "output_type": "stream",
     "text": [
      "[[4.59480934e-01 4.56682426e-01 4.54583480e-01 ... 4.57605516e-01\n",
      "  9.65800000e+04 2.58638020e+00]\n",
      " [3.87091487e-01 3.85584130e-01 3.83795232e-01 ... 6.64153602e-01\n",
      "  1.93914000e+05 5.09295273e+00]\n",
      " [5.15795914e-01 5.15263627e-01 5.14979515e-01 ... 6.63474248e-01\n",
      "  1.15113000e+05 7.59068756e+00]\n",
      " ...\n",
      " [4.98512942e-01 4.98043627e-01 4.97903911e-01 ... 6.38535520e-01\n",
      "  9.76958000e+05 3.88172455e+01]\n",
      " [5.12645402e-01 5.12629890e-01 5.12051108e-01 ... 6.46022599e-01\n",
      "  9.25801000e+05 4.00892242e+01]\n",
      " [5.16828221e-01 5.16560717e-01 5.16128984e-01 ... 6.57781292e-01\n",
      "  4.19530000e+05 4.09530762e+01]]\n"
     ]
    }
   ],
   "source": [
    "with h5py.File(file, 'r') as h5_file:\n",
    "    print(h5_file['session048/cal001/ins001/derived/absorbance_depth'][:])"
   ],
   "metadata": {
    "collapsed": false,
    "pycharm": {
     "name": "#%%\n"
    }
   }
  },
  {
   "cell_type": "code",
   "execution_count": 26,
   "outputs": [],
   "source": [
    "with h5py.File(file, 'r') as h5_file:\n",
    "    depths = h5_file['session048/cal001/ins001/derived/absorbance_depth'][:, -1]"
   ],
   "metadata": {
    "collapsed": false,
    "pycharm": {
     "name": "#%%\n"
    }
   }
  },
  {
   "cell_type": "code",
   "execution_count": 27,
   "outputs": [
    {
     "data": {
      "text/plain": "array([ 2.5863802 ,  5.09295273,  7.59068756, 10.09070816, 12.59062653,\n       15.09039307, 17.59031219, 20.09043427, 22.59035339, 25.09037476,\n       27.59013977, 30.09000854, 32.58972473, 33.51352234, 35.08948975,\n       37.58930969, 38.81724548, 40.08922424, 40.95307617])"
     },
     "execution_count": 27,
     "metadata": {},
     "output_type": "execute_result"
    }
   ],
   "source": [
    "depths"
   ],
   "metadata": {
    "collapsed": false,
    "pycharm": {
     "name": "#%%\n"
    }
   }
  },
  {
   "cell_type": "code",
   "execution_count": 28,
   "outputs": [],
   "source": [
    "df['depth'] = depths"
   ],
   "metadata": {
    "collapsed": false,
    "pycharm": {
     "name": "#%%\n"
    }
   }
  },
  {
   "cell_type": "code",
   "execution_count": 29,
   "outputs": [
    {
     "data": {
      "text/plain": "           0         1         2         3         4         5         6  \\\n0   0.412516  0.412053  0.411603  0.411166  0.410742  0.410331  0.409933   \n1   0.369179  0.371311  0.373425  0.375522  0.377601  0.379662  0.381706   \n2   0.514812  0.514518  0.514226  0.513936  0.513648  0.513363  0.513079   \n3   0.507566  0.507225  0.506887  0.506551  0.506217  0.505885  0.505556   \n4   0.453858  0.453575  0.453295  0.453016  0.452739  0.452463  0.452190   \n5   0.494295  0.494016  0.493738  0.493462  0.493188  0.492916  0.492646   \n6   0.507391  0.507111  0.506834  0.506558  0.506284  0.506013  0.505743   \n7   0.460152  0.459912  0.459674  0.459437  0.459202  0.458968  0.458736   \n8   0.484669  0.484419  0.484172  0.483925  0.483681  0.483438  0.483196   \n9   0.470571  0.470340  0.470111  0.469883  0.469657  0.469432  0.469209   \n10  0.494980  0.494726  0.494473  0.494223  0.493974  0.493727  0.493481   \n11  0.504886  0.504646  0.504408  0.504172  0.503938  0.503706  0.503475   \n12  0.500800  0.500560  0.500322  0.500086  0.499853  0.499621  0.499391   \n13  0.484953  0.484701  0.484452  0.484207  0.483964  0.483723  0.483486   \n14  0.491445  0.491215  0.490987  0.490761  0.490538  0.490316  0.490096   \n15  0.506296  0.506071  0.505848  0.505627  0.505407  0.505189  0.504973   \n16  0.497385  0.497180  0.496977  0.496775  0.496575  0.496377  0.496181   \n17  0.511871  0.511655  0.511440  0.511227  0.511016  0.510807  0.510600   \n18  0.516284  0.516010  0.515739  0.515469  0.515202  0.514937  0.514674   \n\n           7         8         9  ...    sd_err      rmse        c0        c1  \\\n0   0.409547  0.409174  0.408813  ...  0.010423  0.016542  0.440431  0.000507   \n1   0.383733  0.385742  0.387733  ...  0.017290  0.021305  0.527290  0.000219   \n2   0.512798  0.512519  0.512242  ...  0.000032  0.000921  0.494537  0.000024   \n3   0.505229  0.504904  0.504582  ...  0.000036  0.000972  0.482343  0.000007   \n4   0.451918  0.451648  0.451379  ...  0.000019  0.000710  0.431641 -0.000010   \n5   0.492378  0.492112  0.491848  ...  0.000030  0.000890  0.473775  0.000007   \n6   0.505475  0.505209  0.504946  ...  0.000023  0.000770  0.487396  0.000012   \n7   0.458506  0.458277  0.458050  ...  0.000014  0.000608  0.442237  0.000003   \n8   0.482957  0.482719  0.482483  ...  0.000015  0.000631  0.466210  0.000007   \n9   0.468987  0.468767  0.468548  ...  0.000014  0.000602  0.453134  0.000001   \n10  0.493238  0.492996  0.492755  ...  0.000017  0.000668  0.476382  0.000008   \n11  0.503247  0.503020  0.502795  ...  0.000016  0.000642  0.490173  0.000047   \n12  0.499164  0.498938  0.498715  ...  0.000015  0.000629  0.487270  0.000057   \n13  0.483251  0.483019  0.482790  ...  0.000048  0.001121  0.475295  0.000101   \n14  0.489878  0.489662  0.489449  ...  0.000014  0.000599  0.478725  0.000058   \n15  0.504758  0.504546  0.504334  ...  0.000015  0.000629  0.491925  0.000035   \n16  0.495987  0.495794  0.495603  ...  0.000015  0.000638  0.486520  0.000059   \n17  0.510394  0.510190  0.509987  ...  0.000014  0.000600  0.498927  0.000044   \n18  0.514413  0.514154  0.513898  ...  0.000021  0.000740  0.498827  0.000037   \n\n              c2            c3        w1        w2        f1      depth  \n0  -8.743775e-08 -1.486287e-08 -1.743454  4.094606  0.866939   2.586380  \n1  -3.884420e-06  1.120707e-08  6.037985 -1.074594 -0.006113   5.092953  \n2   1.061314e-06 -1.844708e-11  4.250832 -0.827179 -0.005626   7.590688  \n3   1.179224e-06  7.046450e-11  4.621883 -1.031031 -0.008744  10.090708  \n4   9.376713e-07  1.203388e-10  3.729818 -0.417619 -0.015288  12.590627  \n5   9.572353e-07 -3.810306e-12  3.702646 -0.436319 -0.015657  15.090393  \n6   9.498482e-07 -1.094611e-10  3.694965 -0.365349 -0.019726  17.590312  \n7   8.243434e-07  4.931124e-11  3.126869 -0.390981 -0.030331  20.090434  \n8   8.810708e-07  1.065544e-10  3.431258 -0.437679 -0.040171  22.590353  \n9   8.014427e-07  1.109629e-10  3.133936 -0.124245 -0.037186  25.090375  \n10  8.869139e-07  4.626719e-11  3.506516 -0.424386 -0.030806  27.590140  \n11  9.868390e-07  1.181431e-10  4.059880 -1.131356 -0.045839  30.090009  \n12  9.616451e-07 -1.425385e-10  3.798793 -0.892958 -0.041270  32.589725  \n13  9.533564e-07 -1.010579e-09  3.704584 -0.588964 -0.038216  33.513522  \n14  9.311945e-07 -1.380322e-10  3.782319 -0.857535 -0.055961  35.089490  \n15  8.801586e-07  4.863892e-11  3.550645 -0.594241 -0.049453  37.589310  \n16  8.663710e-07 -8.249883e-11  3.784466 -0.757453 -0.040459  38.817245  \n17  8.691839e-07 -1.052150e-11  3.533107 -0.623708 -0.046927  40.089224  \n18  9.915934e-07 -2.178966e-10  3.874694 -0.656096 -0.054246  40.953076  \n\n[19 rows x 411 columns]",
      "text/html": "<div>\n<style scoped>\n    .dataframe tbody tr th:only-of-type {\n        vertical-align: middle;\n    }\n\n    .dataframe tbody tr th {\n        vertical-align: top;\n    }\n\n    .dataframe thead th {\n        text-align: right;\n    }\n</style>\n<table border=\"1\" class=\"dataframe\">\n  <thead>\n    <tr style=\"text-align: right;\">\n      <th></th>\n      <th>0</th>\n      <th>1</th>\n      <th>2</th>\n      <th>3</th>\n      <th>4</th>\n      <th>5</th>\n      <th>6</th>\n      <th>7</th>\n      <th>8</th>\n      <th>9</th>\n      <th>...</th>\n      <th>sd_err</th>\n      <th>rmse</th>\n      <th>c0</th>\n      <th>c1</th>\n      <th>c2</th>\n      <th>c3</th>\n      <th>w1</th>\n      <th>w2</th>\n      <th>f1</th>\n      <th>depth</th>\n    </tr>\n  </thead>\n  <tbody>\n    <tr>\n      <th>0</th>\n      <td>0.412516</td>\n      <td>0.412053</td>\n      <td>0.411603</td>\n      <td>0.411166</td>\n      <td>0.410742</td>\n      <td>0.410331</td>\n      <td>0.409933</td>\n      <td>0.409547</td>\n      <td>0.409174</td>\n      <td>0.408813</td>\n      <td>...</td>\n      <td>0.010423</td>\n      <td>0.016542</td>\n      <td>0.440431</td>\n      <td>0.000507</td>\n      <td>-8.743775e-08</td>\n      <td>-1.486287e-08</td>\n      <td>-1.743454</td>\n      <td>4.094606</td>\n      <td>0.866939</td>\n      <td>2.586380</td>\n    </tr>\n    <tr>\n      <th>1</th>\n      <td>0.369179</td>\n      <td>0.371311</td>\n      <td>0.373425</td>\n      <td>0.375522</td>\n      <td>0.377601</td>\n      <td>0.379662</td>\n      <td>0.381706</td>\n      <td>0.383733</td>\n      <td>0.385742</td>\n      <td>0.387733</td>\n      <td>...</td>\n      <td>0.017290</td>\n      <td>0.021305</td>\n      <td>0.527290</td>\n      <td>0.000219</td>\n      <td>-3.884420e-06</td>\n      <td>1.120707e-08</td>\n      <td>6.037985</td>\n      <td>-1.074594</td>\n      <td>-0.006113</td>\n      <td>5.092953</td>\n    </tr>\n    <tr>\n      <th>2</th>\n      <td>0.514812</td>\n      <td>0.514518</td>\n      <td>0.514226</td>\n      <td>0.513936</td>\n      <td>0.513648</td>\n      <td>0.513363</td>\n      <td>0.513079</td>\n      <td>0.512798</td>\n      <td>0.512519</td>\n      <td>0.512242</td>\n      <td>...</td>\n      <td>0.000032</td>\n      <td>0.000921</td>\n      <td>0.494537</td>\n      <td>0.000024</td>\n      <td>1.061314e-06</td>\n      <td>-1.844708e-11</td>\n      <td>4.250832</td>\n      <td>-0.827179</td>\n      <td>-0.005626</td>\n      <td>7.590688</td>\n    </tr>\n    <tr>\n      <th>3</th>\n      <td>0.507566</td>\n      <td>0.507225</td>\n      <td>0.506887</td>\n      <td>0.506551</td>\n      <td>0.506217</td>\n      <td>0.505885</td>\n      <td>0.505556</td>\n      <td>0.505229</td>\n      <td>0.504904</td>\n      <td>0.504582</td>\n      <td>...</td>\n      <td>0.000036</td>\n      <td>0.000972</td>\n      <td>0.482343</td>\n      <td>0.000007</td>\n      <td>1.179224e-06</td>\n      <td>7.046450e-11</td>\n      <td>4.621883</td>\n      <td>-1.031031</td>\n      <td>-0.008744</td>\n      <td>10.090708</td>\n    </tr>\n    <tr>\n      <th>4</th>\n      <td>0.453858</td>\n      <td>0.453575</td>\n      <td>0.453295</td>\n      <td>0.453016</td>\n      <td>0.452739</td>\n      <td>0.452463</td>\n      <td>0.452190</td>\n      <td>0.451918</td>\n      <td>0.451648</td>\n      <td>0.451379</td>\n      <td>...</td>\n      <td>0.000019</td>\n      <td>0.000710</td>\n      <td>0.431641</td>\n      <td>-0.000010</td>\n      <td>9.376713e-07</td>\n      <td>1.203388e-10</td>\n      <td>3.729818</td>\n      <td>-0.417619</td>\n      <td>-0.015288</td>\n      <td>12.590627</td>\n    </tr>\n    <tr>\n      <th>5</th>\n      <td>0.494295</td>\n      <td>0.494016</td>\n      <td>0.493738</td>\n      <td>0.493462</td>\n      <td>0.493188</td>\n      <td>0.492916</td>\n      <td>0.492646</td>\n      <td>0.492378</td>\n      <td>0.492112</td>\n      <td>0.491848</td>\n      <td>...</td>\n      <td>0.000030</td>\n      <td>0.000890</td>\n      <td>0.473775</td>\n      <td>0.000007</td>\n      <td>9.572353e-07</td>\n      <td>-3.810306e-12</td>\n      <td>3.702646</td>\n      <td>-0.436319</td>\n      <td>-0.015657</td>\n      <td>15.090393</td>\n    </tr>\n    <tr>\n      <th>6</th>\n      <td>0.507391</td>\n      <td>0.507111</td>\n      <td>0.506834</td>\n      <td>0.506558</td>\n      <td>0.506284</td>\n      <td>0.506013</td>\n      <td>0.505743</td>\n      <td>0.505475</td>\n      <td>0.505209</td>\n      <td>0.504946</td>\n      <td>...</td>\n      <td>0.000023</td>\n      <td>0.000770</td>\n      <td>0.487396</td>\n      <td>0.000012</td>\n      <td>9.498482e-07</td>\n      <td>-1.094611e-10</td>\n      <td>3.694965</td>\n      <td>-0.365349</td>\n      <td>-0.019726</td>\n      <td>17.590312</td>\n    </tr>\n    <tr>\n      <th>7</th>\n      <td>0.460152</td>\n      <td>0.459912</td>\n      <td>0.459674</td>\n      <td>0.459437</td>\n      <td>0.459202</td>\n      <td>0.458968</td>\n      <td>0.458736</td>\n      <td>0.458506</td>\n      <td>0.458277</td>\n      <td>0.458050</td>\n      <td>...</td>\n      <td>0.000014</td>\n      <td>0.000608</td>\n      <td>0.442237</td>\n      <td>0.000003</td>\n      <td>8.243434e-07</td>\n      <td>4.931124e-11</td>\n      <td>3.126869</td>\n      <td>-0.390981</td>\n      <td>-0.030331</td>\n      <td>20.090434</td>\n    </tr>\n    <tr>\n      <th>8</th>\n      <td>0.484669</td>\n      <td>0.484419</td>\n      <td>0.484172</td>\n      <td>0.483925</td>\n      <td>0.483681</td>\n      <td>0.483438</td>\n      <td>0.483196</td>\n      <td>0.482957</td>\n      <td>0.482719</td>\n      <td>0.482483</td>\n      <td>...</td>\n      <td>0.000015</td>\n      <td>0.000631</td>\n      <td>0.466210</td>\n      <td>0.000007</td>\n      <td>8.810708e-07</td>\n      <td>1.065544e-10</td>\n      <td>3.431258</td>\n      <td>-0.437679</td>\n      <td>-0.040171</td>\n      <td>22.590353</td>\n    </tr>\n    <tr>\n      <th>9</th>\n      <td>0.470571</td>\n      <td>0.470340</td>\n      <td>0.470111</td>\n      <td>0.469883</td>\n      <td>0.469657</td>\n      <td>0.469432</td>\n      <td>0.469209</td>\n      <td>0.468987</td>\n      <td>0.468767</td>\n      <td>0.468548</td>\n      <td>...</td>\n      <td>0.000014</td>\n      <td>0.000602</td>\n      <td>0.453134</td>\n      <td>0.000001</td>\n      <td>8.014427e-07</td>\n      <td>1.109629e-10</td>\n      <td>3.133936</td>\n      <td>-0.124245</td>\n      <td>-0.037186</td>\n      <td>25.090375</td>\n    </tr>\n    <tr>\n      <th>10</th>\n      <td>0.494980</td>\n      <td>0.494726</td>\n      <td>0.494473</td>\n      <td>0.494223</td>\n      <td>0.493974</td>\n      <td>0.493727</td>\n      <td>0.493481</td>\n      <td>0.493238</td>\n      <td>0.492996</td>\n      <td>0.492755</td>\n      <td>...</td>\n      <td>0.000017</td>\n      <td>0.000668</td>\n      <td>0.476382</td>\n      <td>0.000008</td>\n      <td>8.869139e-07</td>\n      <td>4.626719e-11</td>\n      <td>3.506516</td>\n      <td>-0.424386</td>\n      <td>-0.030806</td>\n      <td>27.590140</td>\n    </tr>\n    <tr>\n      <th>11</th>\n      <td>0.504886</td>\n      <td>0.504646</td>\n      <td>0.504408</td>\n      <td>0.504172</td>\n      <td>0.503938</td>\n      <td>0.503706</td>\n      <td>0.503475</td>\n      <td>0.503247</td>\n      <td>0.503020</td>\n      <td>0.502795</td>\n      <td>...</td>\n      <td>0.000016</td>\n      <td>0.000642</td>\n      <td>0.490173</td>\n      <td>0.000047</td>\n      <td>9.868390e-07</td>\n      <td>1.181431e-10</td>\n      <td>4.059880</td>\n      <td>-1.131356</td>\n      <td>-0.045839</td>\n      <td>30.090009</td>\n    </tr>\n    <tr>\n      <th>12</th>\n      <td>0.500800</td>\n      <td>0.500560</td>\n      <td>0.500322</td>\n      <td>0.500086</td>\n      <td>0.499853</td>\n      <td>0.499621</td>\n      <td>0.499391</td>\n      <td>0.499164</td>\n      <td>0.498938</td>\n      <td>0.498715</td>\n      <td>...</td>\n      <td>0.000015</td>\n      <td>0.000629</td>\n      <td>0.487270</td>\n      <td>0.000057</td>\n      <td>9.616451e-07</td>\n      <td>-1.425385e-10</td>\n      <td>3.798793</td>\n      <td>-0.892958</td>\n      <td>-0.041270</td>\n      <td>32.589725</td>\n    </tr>\n    <tr>\n      <th>13</th>\n      <td>0.484953</td>\n      <td>0.484701</td>\n      <td>0.484452</td>\n      <td>0.484207</td>\n      <td>0.483964</td>\n      <td>0.483723</td>\n      <td>0.483486</td>\n      <td>0.483251</td>\n      <td>0.483019</td>\n      <td>0.482790</td>\n      <td>...</td>\n      <td>0.000048</td>\n      <td>0.001121</td>\n      <td>0.475295</td>\n      <td>0.000101</td>\n      <td>9.533564e-07</td>\n      <td>-1.010579e-09</td>\n      <td>3.704584</td>\n      <td>-0.588964</td>\n      <td>-0.038216</td>\n      <td>33.513522</td>\n    </tr>\n    <tr>\n      <th>14</th>\n      <td>0.491445</td>\n      <td>0.491215</td>\n      <td>0.490987</td>\n      <td>0.490761</td>\n      <td>0.490538</td>\n      <td>0.490316</td>\n      <td>0.490096</td>\n      <td>0.489878</td>\n      <td>0.489662</td>\n      <td>0.489449</td>\n      <td>...</td>\n      <td>0.000014</td>\n      <td>0.000599</td>\n      <td>0.478725</td>\n      <td>0.000058</td>\n      <td>9.311945e-07</td>\n      <td>-1.380322e-10</td>\n      <td>3.782319</td>\n      <td>-0.857535</td>\n      <td>-0.055961</td>\n      <td>35.089490</td>\n    </tr>\n    <tr>\n      <th>15</th>\n      <td>0.506296</td>\n      <td>0.506071</td>\n      <td>0.505848</td>\n      <td>0.505627</td>\n      <td>0.505407</td>\n      <td>0.505189</td>\n      <td>0.504973</td>\n      <td>0.504758</td>\n      <td>0.504546</td>\n      <td>0.504334</td>\n      <td>...</td>\n      <td>0.000015</td>\n      <td>0.000629</td>\n      <td>0.491925</td>\n      <td>0.000035</td>\n      <td>8.801586e-07</td>\n      <td>4.863892e-11</td>\n      <td>3.550645</td>\n      <td>-0.594241</td>\n      <td>-0.049453</td>\n      <td>37.589310</td>\n    </tr>\n    <tr>\n      <th>16</th>\n      <td>0.497385</td>\n      <td>0.497180</td>\n      <td>0.496977</td>\n      <td>0.496775</td>\n      <td>0.496575</td>\n      <td>0.496377</td>\n      <td>0.496181</td>\n      <td>0.495987</td>\n      <td>0.495794</td>\n      <td>0.495603</td>\n      <td>...</td>\n      <td>0.000015</td>\n      <td>0.000638</td>\n      <td>0.486520</td>\n      <td>0.000059</td>\n      <td>8.663710e-07</td>\n      <td>-8.249883e-11</td>\n      <td>3.784466</td>\n      <td>-0.757453</td>\n      <td>-0.040459</td>\n      <td>38.817245</td>\n    </tr>\n    <tr>\n      <th>17</th>\n      <td>0.511871</td>\n      <td>0.511655</td>\n      <td>0.511440</td>\n      <td>0.511227</td>\n      <td>0.511016</td>\n      <td>0.510807</td>\n      <td>0.510600</td>\n      <td>0.510394</td>\n      <td>0.510190</td>\n      <td>0.509987</td>\n      <td>...</td>\n      <td>0.000014</td>\n      <td>0.000600</td>\n      <td>0.498927</td>\n      <td>0.000044</td>\n      <td>8.691839e-07</td>\n      <td>-1.052150e-11</td>\n      <td>3.533107</td>\n      <td>-0.623708</td>\n      <td>-0.046927</td>\n      <td>40.089224</td>\n    </tr>\n    <tr>\n      <th>18</th>\n      <td>0.516284</td>\n      <td>0.516010</td>\n      <td>0.515739</td>\n      <td>0.515469</td>\n      <td>0.515202</td>\n      <td>0.514937</td>\n      <td>0.514674</td>\n      <td>0.514413</td>\n      <td>0.514154</td>\n      <td>0.513898</td>\n      <td>...</td>\n      <td>0.000021</td>\n      <td>0.000740</td>\n      <td>0.498827</td>\n      <td>0.000037</td>\n      <td>9.915934e-07</td>\n      <td>-2.178966e-10</td>\n      <td>3.874694</td>\n      <td>-0.656096</td>\n      <td>-0.054246</td>\n      <td>40.953076</td>\n    </tr>\n  </tbody>\n</table>\n<p>19 rows × 411 columns</p>\n</div>"
     },
     "execution_count": 29,
     "metadata": {},
     "output_type": "execute_result"
    }
   ],
   "source": [
    "df"
   ],
   "metadata": {
    "collapsed": false,
    "pycharm": {
     "name": "#%%\n"
    }
   }
  },
  {
   "cell_type": "code",
   "execution_count": 31,
   "outputs": [
    {
     "name": "stdout",
     "output_type": "stream",
     "text": [
      "[-0.01765918 -0.01734964  0.14890162  0.07764754 -0.0119282  -0.03711295\n",
      " -0.03495717 -0.03282838  0.80315189 -0.04365915 -0.03523946 -0.04403358]\n"
     ]
    }
   ],
   "source": [
    "with h5py.File(file, 'r') as h5_file:\n",
    "    print(h5_file['session048/cal001/ins004/derived/modeled'][:, -1])"
   ],
   "metadata": {
    "collapsed": false,
    "pycharm": {
     "name": "#%%\n"
    }
   }
  },
  {
   "cell_type": "code",
   "execution_count": 32,
   "outputs": [
    {
     "name": "stdout",
     "output_type": "stream",
     "text": [
      "<KeysViewHDF5 ['derived', 'spectra', 'spectrum_depths', 'spectrum_forces', 'timestamps']>\n"
     ]
    }
   ],
   "source": [
    "with h5py.File(file, 'r') as h5_file:\n",
    "    print(h5_file['session048/cal001/ins004/spectrometer1'].keys())"
   ],
   "metadata": {
    "collapsed": false,
    "pycharm": {
     "name": "#%%\n"
    }
   }
  },
  {
   "cell_type": "code",
   "execution_count": null,
   "outputs": [],
   "source": [],
   "metadata": {
    "collapsed": false,
    "pycharm": {
     "name": "#%%\n"
    }
   }
  }
 ],
 "metadata": {
  "kernelspec": {
   "display_name": "Python 3",
   "language": "python",
   "name": "python3"
  },
  "language_info": {
   "codemirror_mode": {
    "name": "ipython",
    "version": 2
   },
   "file_extension": ".py",
   "mimetype": "text/x-python",
   "name": "python",
   "nbconvert_exporter": "python",
   "pygments_lexer": "ipython2",
   "version": "2.7.6"
  }
 },
 "nbformat": 4,
 "nbformat_minor": 0
}